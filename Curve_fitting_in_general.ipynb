{
  "nbformat": 4,
  "nbformat_minor": 0,
  "metadata": {
    "colab": {
      "name": "Curve_fitting_in_general.ipynb",
      "provenance": [],
      "authorship_tag": "ABX9TyMVcKOgNLIzAMQStdqVjXXx",
      "include_colab_link": true
    },
    "kernelspec": {
      "name": "python3",
      "display_name": "Python 3"
    },
    "language_info": {
      "name": "python"
    }
  },
  "cells": [
    {
      "cell_type": "markdown",
      "metadata": {
        "id": "view-in-github",
        "colab_type": "text"
      },
      "source": [
        "<a href=\"https://colab.research.google.com/github/kukretinishtha/Mathematics/blob/main/Curve_fitting_in_general.ipynb\" target=\"_parent\"><img src=\"https://colab.research.google.com/assets/colab-badge.svg\" alt=\"Open In Colab\"/></a>"
      ]
    },
    {
      "cell_type": "code",
      "metadata": {
        "colab": {
          "base_uri": "https://localhost:8080/",
          "height": 238
        },
        "id": "aHjP_6QydrmS",
        "outputId": "fd9c7888-0fd2-4ea6-f9e8-e7322ecaecd5"
      },
      "source": [
        "import pandas as pd\n",
        "# Creating a DataFrame\n",
        "df = pd.DataFrame( {\n",
        "    'salt used (x)' :     [ 2.1, 2.9, 3.1, 3.5, 3.7, 4.6 ],\n",
        "    'ice remaining (y)' : [ 7.9, 6.5, 6.5, 6.0, 6.2, 6.0 ]\n",
        "} )\n",
        "df"
      ],
      "execution_count": 1,
      "outputs": [
        {
          "output_type": "execute_result",
          "data": {
            "text/html": [
              "<div>\n",
              "<style scoped>\n",
              "    .dataframe tbody tr th:only-of-type {\n",
              "        vertical-align: middle;\n",
              "    }\n",
              "\n",
              "    .dataframe tbody tr th {\n",
              "        vertical-align: top;\n",
              "    }\n",
              "\n",
              "    .dataframe thead th {\n",
              "        text-align: right;\n",
              "    }\n",
              "</style>\n",
              "<table border=\"1\" class=\"dataframe\">\n",
              "  <thead>\n",
              "    <tr style=\"text-align: right;\">\n",
              "      <th></th>\n",
              "      <th>salt used (x)</th>\n",
              "      <th>ice remaining (y)</th>\n",
              "    </tr>\n",
              "  </thead>\n",
              "  <tbody>\n",
              "    <tr>\n",
              "      <th>0</th>\n",
              "      <td>2.1</td>\n",
              "      <td>7.9</td>\n",
              "    </tr>\n",
              "    <tr>\n",
              "      <th>1</th>\n",
              "      <td>2.9</td>\n",
              "      <td>6.5</td>\n",
              "    </tr>\n",
              "    <tr>\n",
              "      <th>2</th>\n",
              "      <td>3.1</td>\n",
              "      <td>6.5</td>\n",
              "    </tr>\n",
              "    <tr>\n",
              "      <th>3</th>\n",
              "      <td>3.5</td>\n",
              "      <td>6.0</td>\n",
              "    </tr>\n",
              "    <tr>\n",
              "      <th>4</th>\n",
              "      <td>3.7</td>\n",
              "      <td>6.2</td>\n",
              "    </tr>\n",
              "    <tr>\n",
              "      <th>5</th>\n",
              "      <td>4.6</td>\n",
              "      <td>6.0</td>\n",
              "    </tr>\n",
              "  </tbody>\n",
              "</table>\n",
              "</div>"
            ],
            "text/plain": [
              "   salt used (x)  ice remaining (y)\n",
              "0            2.1                7.9\n",
              "1            2.9                6.5\n",
              "2            3.1                6.5\n",
              "3            3.5                6.0\n",
              "4            3.7                6.2\n",
              "5            4.6                6.0"
            ]
          },
          "metadata": {
            "tags": []
          },
          "execution_count": 1
        }
      ]
    },
    {
      "cell_type": "code",
      "metadata": {
        "colab": {
          "base_uri": "https://localhost:8080/",
          "height": 265
        },
        "id": "YOP3NIGnd27n",
        "outputId": "b01dae2b-2b59-44b9-daee-0dcf0c8c2bde"
      },
      "source": [
        "# Ploting a graph\n",
        "import matplotlib.pyplot as plt\n",
        "xs = df['salt used (x)']\n",
        "ys = df['ice remaining (y)']\n",
        "plt.scatter( xs, ys )\n",
        "plt.show()"
      ],
      "execution_count": 4,
      "outputs": [
        {
          "output_type": "display_data",
          "data": {
            "image/png": "[encoded data removed]",
            "text/plain": [
              "<Figure size 432x288 with 1 Axes>"
            ]
          },
          "metadata": {
            "tags": [],
            "needs_background": "light"
          }
        }
      ]
    },
    {
      "cell_type": "code",
      "metadata": {
        "id": "sPQrXquqd_Wi"
      },
      "source": [
        "# Model Definition\n",
        "def model ( x, β0, β1, β2 ):\n",
        "    return β0 / ( β1 + x ) + β2"
      ],
      "execution_count": 5,
      "outputs": []
    },
    {
      "cell_type": "code",
      "metadata": {
        "colab": {
          "base_uri": "https://localhost:8080/",
          "height": 267
        },
        "id": "F8yiX3HQeW0-",
        "outputId": "19365f05-e9c4-41dc-fb22-adc6040e6667"
      },
      "source": [
        "import numpy as np\n",
        "# fill in my guesses for the β parameters:\n",
        "guess_model = lambda x: model( x, 3, 4, 5 )\n",
        "\n",
        "# plot the data:\n",
        "plt.scatter( xs, ys )\n",
        "\n",
        "# plot my model by sampling many x values on it:\n",
        "many_xs = np.linspace( 2, 5, 100 )\n",
        "plt.plot( many_xs, guess_model( many_xs ) )\n",
        "\n",
        "# show the two plots together:\n",
        "plt.show()"
      ],
      "execution_count": 7,
      "outputs": [
        {
          "output_type": "display_data",
          "data": {
            "image/png": "[encoded data removed]",
            "text/plain": [
              "<Figure size 432x288 with 1 Axes>"
            ]
          },
          "metadata": {
            "tags": [],
            "needs_background": "light"
          }
        }
      ]
    },
    {
      "cell_type": "markdown",
      "metadata": {
        "id": "LNwivitAe_I1"
      },
      "source": [
        "Our Model does not fit into the data. That's the reason we need scipy to get the value of \\beta."
      ]
    },
    {
      "cell_type": "code",
      "metadata": {
        "colab": {
          "base_uri": "https://localhost:8080/"
        },
        "id": "2MApE4NNer8x",
        "outputId": "de11d294-87f9-435b-970f-1b52055cc7d4"
      },
      "source": [
        "# Finding the values of betas\n",
        "from scipy.optimize import curve_fit\n",
        "my_guessed_betas = [ 3, 4, 5 ]\n",
        "found_betas, covariance = curve_fit( model, xs, ys, p0=my_guessed_betas )\n",
        "β0, β1, β2 = found_betas\n",
        "β0, β1, β2"
      ],
      "execution_count": 9,
      "outputs": [
        {
          "output_type": "execute_result",
          "data": {
            "text/plain": [
              "(1.3739384272240622, -1.5255461192343747, 5.510233385761209)"
            ]
          },
          "metadata": {
            "tags": []
          },
          "execution_count": 9
        }
      ]
    },
    {
      "cell_type": "code",
      "metadata": {
        "colab": {
          "base_uri": "https://localhost:8080/",
          "height": 267
        },
        "id": "zA6GSmP4fbqR",
        "outputId": "da0286ac-3abf-4e25-ca63-1ddcd99802c9"
      },
      "source": [
        "# Checking the model\n",
        "fit_model = lambda x: model( x, β0, β1, β2 )\n",
        "plt.scatter( xs, ys )\n",
        "plt.plot( many_xs, fit_model( many_xs ) )\n",
        "plt.show()"
      ],
      "execution_count": 11,
      "outputs": [
        {
          "output_type": "display_data",
          "data": {
            "image/png": "[encoded data removed]",
            "text/plain": [
              "<Figure size 432x288 with 1 Axes>"
            ]
          },
          "metadata": {
            "tags": [],
            "needs_background": "light"
          }
        }
      ]
    },
    {
      "cell_type": "markdown",
      "metadata": {
        "id": "sd1p3YRFfuO4"
      },
      "source": [
        "Here we can see that the model perfectly fits the data."
      ]
    }
  ]
}