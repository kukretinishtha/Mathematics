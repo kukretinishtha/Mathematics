{
  "nbformat": 4,
  "nbformat_minor": 0,
  "metadata": {
    "colab": {
      "name": "Mathematics_Statistics_in_Python.ipynb",
      "provenance": [],
      "authorship_tag": "ABX9TyOE9CTFqfIugLi0M14M65CT",
      "include_colab_link": true
    },
    "kernelspec": {
      "name": "python3",
      "display_name": "Python 3"
    },
    "language_info": {
      "name": "python"
    }
  },
  "cells": [
    {
      "cell_type": "markdown",
      "metadata": {
        "id": "view-in-github",
        "colab_type": "text"
      },
      "source": [
        "<a href=\"https://colab.research.google.com/github/kukretinishtha/Mathematics/blob/main/Mathematics_Statistics_in_Python.ipynb\" target=\"_parent\"><img src=\"https://colab.research.google.com/assets/colab-badge.svg\" alt=\"Open In Colab\"/></a>"
      ]
    },
    {
      "cell_type": "code",
      "metadata": {
        "id": "PuHYQoROO2PF"
      },
      "source": [
        "import math"
      ],
      "execution_count": 1,
      "outputs": []
    },
    {
      "cell_type": "code",
      "metadata": {
        "colab": {
          "base_uri": "https://localhost:8080/"
        },
        "id": "MMil2axIPNI2",
        "outputId": "22dd588d-b44b-4f74-a297-84f24417f0d7"
      },
      "source": [
        "# Getting the value of cos\n",
        "math.cos( 0 )"
      ],
      "execution_count": 2,
      "outputs": [
        {
          "output_type": "execute_result",
          "data": {
            "text/plain": [
              "1.0"
            ]
          },
          "metadata": {
            "tags": []
          },
          "execution_count": 2
        }
      ]
    },
    {
      "cell_type": "code",
      "metadata": {
        "colab": {
          "base_uri": "https://localhost:8080/"
        },
        "id": "mthl0Sv9PQIm",
        "outputId": "e97fcbe3-67d0-4853-c7dd-c6ae617998bb"
      },
      "source": [
        "# Getting thevalue of exp\n",
        "math.exp( 1 )"
      ],
      "execution_count": 3,
      "outputs": [
        {
          "output_type": "execute_result",
          "data": {
            "text/plain": [
              "2.718281828459045"
            ]
          },
          "metadata": {
            "tags": []
          },
          "execution_count": 3
        }
      ]
    },
    {
      "cell_type": "code",
      "metadata": {
        "id": "gui22CPIQs5P"
      },
      "source": [
        "# Mathematical value of Natural log\n",
        "math.log( 10 )"
      ],
      "execution_count": null,
      "outputs": []
    },
    {
      "cell_type": "code",
      "metadata": {
        "id": "9y6fA1lbScjo"
      },
      "source": [
        "# Getting distance between two points used in python 3.8 or +\n",
        "x = math.dist([1,0], [-5,2])"
      ],
      "execution_count": null,
      "outputs": []
    },
    {
      "cell_type": "markdown",
      "metadata": {
        "id": "YeaQyq2eS-l2"
      },
      "source": [
        "**Quadratic Formula Definition**"
      ]
    },
    {
      "cell_type": "code",
      "metadata": {
        "colab": {
          "base_uri": "https://localhost:8080/"
        },
        "id": "Cf-553xlShtQ",
        "outputId": "638f444b-d5a3-4e9c-b812-59c727a4abe0"
      },
      "source": [
        "def quadratic_formula_1 ( a, b, c ):\n",
        "    solution1 = ( -b + ( b**2 - 4*a*c )**0.5 ) / ( 2*a )\n",
        "    solution2 = ( -b - ( b**2 - 4*a*c )**0.5 ) / ( 2*a )\n",
        "    return ( solution1, solution2 )\n",
        "\n",
        "quadratic_formula_1(3,-9,6)"
      ],
      "execution_count": 13,
      "outputs": [
        {
          "output_type": "execute_result",
          "data": {
            "text/plain": [
              "(2.0, 1.0)"
            ]
          },
          "metadata": {
            "tags": []
          },
          "execution_count": 13
        }
      ]
    },
    {
      "cell_type": "code",
      "metadata": {
        "colab": {
          "base_uri": "https://localhost:8080/"
        },
        "id": "vf2njjQzREwS",
        "outputId": "99c04ad5-bf0f-4a9f-f501-b52faf169203"
      },
      "source": [
        "def quadratic_formula_2 ( x_squared_coefficient, x_coefficient, constant ):\n",
        "    solution1 = ( -x_coefficient + \\\n",
        "                    ( x_coefficient**2 - 4*x_squared_coefficient*constant )**0.5 ) \\\n",
        "                  / ( 2*x_squared_coefficient )\n",
        "    solution2 = ( -x_coefficient - \\\n",
        "                    ( x_coefficient**2 - 4*x_squared_coefficient*constant )**0.5 ) \\\n",
        "                  / ( 2*x_squared_coefficient )\n",
        "    return ( solution1, solution2 )\n",
        "\n",
        "\n",
        "quadratic_formula_2(3,-9,6)"
      ],
      "execution_count": 14,
      "outputs": [
        {
          "output_type": "execute_result",
          "data": {
            "text/plain": [
              "(2.0, 1.0)"
            ]
          },
          "metadata": {
            "tags": []
          },
          "execution_count": 14
        }
      ]
    },
    {
      "cell_type": "markdown",
      "metadata": {
        "id": "S7WdcXoiVj1V"
      },
      "source": [
        "**Normal Probability Distribution Function**"
      ]
    },
    {
      "cell_type": "code",
      "metadata": {
        "colab": {
          "base_uri": "https://localhost:8080/"
        },
        "id": "5WpoEtb6SVc-",
        "outputId": "c0459a37-2c12-479c-ca0d-59707adf553c"
      },
      "source": [
        "def normal_pdf ( μ, σ, x ):\n",
        "    \"\"\"The value of the probability density function for\n",
        "    the normal distribution N(μ,σ^2), with mean μ and\n",
        "    variance σ^2.\"\"\"\n",
        "    shifted = ( x - μ ) / σ\n",
        "    return math.exp( -shifted**2 / 2.0 ) \\\n",
        "         / math.sqrt( 2*math.pi ) / σ\n",
        "\n",
        "normal_pdf( 10, 2, 15 )"
      ],
      "execution_count": 15,
      "outputs": [
        {
          "output_type": "execute_result",
          "data": {
            "text/plain": [
              "0.00876415024678427"
            ]
          },
          "metadata": {
            "tags": []
          },
          "execution_count": 15
        }
      ]
    },
    {
      "cell_type": "markdown",
      "metadata": {
        "id": "YLKikStqXp0L"
      },
      "source": [
        "**Numpy Operations**"
      ]
    },
    {
      "cell_type": "code",
      "metadata": {
        "colab": {
          "base_uri": "https://localhost:8080/"
        },
        "id": "uXTJSr6UVN5R",
        "outputId": "2028f39c-8358-4b09-85ae-bd66e562a90b"
      },
      "source": [
        "import numpy as np\n",
        "values = np.random.rand( 30 )\n",
        "values"
      ],
      "execution_count": 16,
      "outputs": [
        {
          "output_type": "execute_result",
          "data": {
            "text/plain": [
              "array([0.37169532, 0.30819655, 0.22192087, 0.51109833, 0.64555519,\n",
              "       0.22211958, 0.18445554, 0.7162821 , 0.98187318, 0.44546403,\n",
              "       0.95006398, 0.58705159, 0.25820216, 0.84809872, 0.81852171,\n",
              "       0.78270608, 0.537419  , 0.66415411, 0.18788239, 0.38393392,\n",
              "       0.45628441, 0.26168831, 0.64277135, 0.8303666 , 0.12655494,\n",
              "       0.30372628, 0.83213844, 0.79052187, 0.2386933 , 0.37299652])"
            ]
          },
          "metadata": {
            "tags": []
          },
          "execution_count": 16
        }
      ]
    },
    {
      "cell_type": "code",
      "metadata": {
        "colab": {
          "base_uri": "https://localhost:8080/"
        },
        "id": "A_Rf-hdjXvbd",
        "outputId": "d2cb08cb-e5f2-48de-9dc7-b2a398585a04"
      },
      "source": [
        "np.around( values, 2 )"
      ],
      "execution_count": 17,
      "outputs": [
        {
          "output_type": "execute_result",
          "data": {
            "text/plain": [
              "array([0.37, 0.31, 0.22, 0.51, 0.65, 0.22, 0.18, 0.72, 0.98, 0.45, 0.95,\n",
              "       0.59, 0.26, 0.85, 0.82, 0.78, 0.54, 0.66, 0.19, 0.38, 0.46, 0.26,\n",
              "       0.64, 0.83, 0.13, 0.3 , 0.83, 0.79, 0.24, 0.37])"
            ]
          },
          "metadata": {
            "tags": []
          },
          "execution_count": 17
        }
      ]
    },
    {
      "cell_type": "code",
      "metadata": {
        "colab": {
          "base_uri": "https://localhost:8080/"
        },
        "id": "PTBmI3J5XyQv",
        "outputId": "e229383a-13d9-4ebf-bef9-0d63706120f6"
      },
      "source": [
        "np.exp( values )"
      ],
      "execution_count": 18,
      "outputs": [
        {
          "output_type": "execute_result",
          "data": {
            "text/plain": [
              "array([1.45019106, 1.36096846, 1.24847259, 1.66712125, 1.90704551,\n",
              "       1.24872069, 1.20256351, 2.04680922, 2.66945192, 1.56121448,\n",
              "       2.5858751 , 1.79867736, 1.29460051, 2.33520275, 2.26714587,\n",
              "       2.18738349, 1.71158356, 1.94284639, 1.20669159, 1.46804843,\n",
              "       1.57819914, 1.29912155, 1.90174397, 2.29415964, 1.13491181,\n",
              "       1.35489815, 2.29822812, 2.20454661, 1.26958909, 1.45207929])"
            ]
          },
          "metadata": {
            "tags": []
          },
          "execution_count": 18
        }
      ]
    },
    {
      "cell_type": "code",
      "metadata": {
        "colab": {
          "base_uri": "https://localhost:8080/"
        },
        "id": "2JQAL4cqX1Ep",
        "outputId": "d39978c9-3b46-4959-d12a-7491f857098b"
      },
      "source": [
        "np.square( values )"
      ],
      "execution_count": 19,
      "outputs": [
        {
          "output_type": "execute_result",
          "data": {
            "text/plain": [
              "array([0.13815741, 0.09498511, 0.04924887, 0.26122151, 0.4167415 ,\n",
              "       0.04933711, 0.03402385, 0.51306005, 0.96407494, 0.1984382 ,\n",
              "       0.90262157, 0.34462957, 0.06666836, 0.71927144, 0.6699778 ,\n",
              "       0.6126288 , 0.28881919, 0.44110068, 0.03529979, 0.14740526,\n",
              "       0.20819546, 0.06848077, 0.413155  , 0.6895087 , 0.01601615,\n",
              "       0.09224966, 0.69245439, 0.62492482, 0.05697449, 0.1391264 ])"
            ]
          },
          "metadata": {
            "tags": []
          },
          "execution_count": 19
        }
      ]
    },
    {
      "cell_type": "markdown",
      "metadata": {
        "id": "T9_xNY_FYFZQ"
      },
      "source": [
        "**RMSSE**"
      ]
    },
    {
      "cell_type": "code",
      "metadata": {
        "colab": {
          "base_uri": "https://localhost:8080/"
        },
        "id": "BhJfkswIX3aB",
        "outputId": "2a4a5856-b8bc-4fa3-81ef-ed6156fbeb33"
      },
      "source": [
        "ys    = np.array( [ 1, 2, 3, 4, 5 ] )   # made up data\n",
        "yhats = np.array( [ 2, 1, 0, 3, 4 ] )   # also made up\n",
        "RSSE  = np.sqrt( np.sum( np.square( ys - yhats ) ) )\n",
        "RSSE"
      ],
      "execution_count": 20,
      "outputs": [
        {
          "output_type": "execute_result",
          "data": {
            "text/plain": [
              "3.605551275463989"
            ]
          },
          "metadata": {
            "tags": []
          },
          "execution_count": 20
        }
      ]
    },
    {
      "cell_type": "markdown",
      "metadata": {
        "id": "SOCoRt-taZCr"
      },
      "source": [
        "**Argument Binding Function**"
      ]
    },
    {
      "cell_type": "code",
      "metadata": {
        "colab": {
          "base_uri": "https://localhost:8080/"
        },
        "id": "2HoJ6xBCYJlC",
        "outputId": "3f41797b-3674-46c2-b864-62263c17f57e"
      },
      "source": [
        "from functools import partial\n",
        "'''\n",
        "To get the standard normal distribution, fill in the values μ=0 and σ=1 once \n",
        "for all and then use that on as many x inputs\n",
        "'''\n",
        "my_pdf = partial( normal_pdf, 0, 1 )\n",
        "my_pdf( 0 ), my_pdf( 1 ), my_pdf( 2 ), my_pdf( 3 ), my_pdf( 4 )"
      ],
      "execution_count": 21,
      "outputs": [
        {
          "output_type": "execute_result",
          "data": {
            "text/plain": [
              "(0.3989422804014327,\n",
              " 0.24197072451914337,\n",
              " 0.05399096651318806,\n",
              " 0.0044318484119380075,\n",
              " 0.00013383022576488537)"
            ]
          },
          "metadata": {
            "tags": []
          },
          "execution_count": 21
        }
      ]
    },
    {
      "cell_type": "code",
      "metadata": {
        "colab": {
          "base_uri": "https://localhost:8080/"
        },
        "id": "DBfPxjfOa8jX",
        "outputId": "6d1878c5-0e92-4dc9-ebb4-79a7efdda5f9"
      },
      "source": [
        "# Random number generating procedures\n",
        "import scipy.stats as stats\n",
        "stats.uniform.rvs( 0, 100, size=10 )"
      ],
      "execution_count": 23,
      "outputs": [
        {
          "output_type": "execute_result",
          "data": {
            "text/plain": [
              "array([ 3.22148222, 95.500811  , 14.73716601, 56.04280536, 93.14051993,\n",
              "       30.53978992, 80.78888155,  3.10831988, 41.89545997, 41.29624867])"
            ]
          },
          "metadata": {
            "tags": []
          },
          "execution_count": 23
        }
      ]
    },
    {
      "cell_type": "code",
      "metadata": {
        "colab": {
          "base_uri": "https://localhost:8080/"
        },
        "id": "QAqx1sxwbG5K",
        "outputId": "889339fa-77b3-4321-cf4e-ac0865545665"
      },
      "source": [
        "X = stats.uniform( 0, 100 )  # make a random variable\n",
        "X.rvs( size=10 )             # generate 10 values from it"
      ],
      "execution_count": 24,
      "outputs": [
        {
          "output_type": "execute_result",
          "data": {
            "text/plain": [
              "array([65.21866466, 69.49511848, 99.01719962, 25.95829749, 84.63956559,\n",
              "       19.53521719, 63.59250708,  4.43274064, 87.17596375, 87.39131741])"
            ]
          },
          "metadata": {
            "tags": []
          },
          "execution_count": 24
        }
      ]
    },
    {
      "cell_type": "code",
      "metadata": {
        "colab": {
          "base_uri": "https://localhost:8080/"
        },
        "id": "BlDjhmDYbQy-",
        "outputId": "f647404c-1be1-4da2-e7b0-fd28b4b8c6e4"
      },
      "source": [
        "# For binding the second argument partial tool does not work.\n",
        "# We need to use lambda function for that.\n",
        "def subtract ( a, b ):  \n",
        "    return a - b\n",
        "\n",
        "subtract_1 = lambda a: subtract( a, 1 )  # bind second argument to 1\n",
        "\n",
        "subtract_1( 5 )"
      ],
      "execution_count": 25,
      "outputs": [
        {
          "output_type": "execute_result",
          "data": {
            "text/plain": [
              "4"
            ]
          },
          "metadata": {
            "tags": []
          },
          "execution_count": 25
        }
      ]
    }
  ]
}